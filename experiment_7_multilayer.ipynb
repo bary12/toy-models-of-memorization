{
  "cells": [
    {
      "cell_type": "code",
      "execution_count": null,
      "metadata": {
        "colab": {
          "base_uri": "https://localhost:8080/"
        },
        "id": "gqSDYOhZzykj",
        "outputId": "b84eb11f-5bd9-470c-a7ed-9b57cd80064c"
      },
      "outputs": [
        {
          "output_type": "execute_result",
          "data": {
            "text/plain": [
              "tensor([[60, 48,  2,  ..., 92, 34, 22],\n",
              "        [48, 71,  8,  ..., 16, 57, 69],\n",
              "        [ 2,  8, 50,  ..., 73, 23,  7],\n",
              "        ...,\n",
              "        [92, 16, 73,  ..., 52, 89, 27],\n",
              "        [34, 57, 23,  ..., 89, 15,  2],\n",
              "        [22, 69,  7,  ..., 27,  2, 33]])"
            ]
          },
          "metadata": {},
          "execution_count": 2
        }
      ],
      "source": [
        "import torch, math\n",
        "torch.set_printoptions(precision=2, sci_mode=False, linewidth=200)\n",
        "n_tokens = 100\n",
        "memory = torch.triu(torch.ones(n_tokens, n_tokens), diagonal=0)\n",
        "memory = memory * torch.randint_like(memory, 0, n_tokens)\n",
        "memory = memory + memory.T - torch.diag(memory.diagonal())\n",
        "memory = memory.long()\n",
        "memory"
      ]
    },
    {
      "cell_type": "code",
      "execution_count": null,
      "metadata": {
        "id": "rHyx7kHazyku"
      },
      "outputs": [],
      "source": [
        "import torch\n",
        "import random\n",
        "import matplotlib.pyplot as plt\n",
        "import torch.nn as nn\n",
        "import torch.optim as optim\n",
        "import torch.nn.functional as F\n",
        "from tqdm import tqdm\n",
        "\n",
        "\n",
        "class DecoderLayer(nn.Module):\n",
        "    def __init__(self, d_model, n_head, dim_feedforward, dropout=0.0):\n",
        "        super().__init__()\n",
        "        self.d_model = d_model\n",
        "        self.n_head = n_head\n",
        "        self.dim_feedforward = dim_feedforward\n",
        "\n",
        "        self.self_attn = nn.MultiheadAttention(d_model, n_head, batch_first=True, dropout=dropout)\n",
        "        self.linear1 = nn.Linear(d_model, dim_feedforward)\n",
        "        self.linear2 = nn.Linear(dim_feedforward, d_model)\n",
        "        self.norm1 = nn.LayerNorm(d_model)\n",
        "        self.norm2 = nn.LayerNorm(d_model)\n",
        "        self.dropout = nn.Dropout(dropout)\n",
        "\n",
        "    @property\n",
        "    def device(self):\n",
        "        return next(self.parameters()).device\n",
        "\n",
        "    def forward(self, tgt, skip_feedforward=False, skip_self_attn=False, linear_mask=None, history=None, custom_attention=False, head_mask=None):\n",
        "        hist = {}\n",
        "        attn_heads = None\n",
        "        if not skip_self_attn:\n",
        "            # mask = torch.triu(torch.ones(tgt.shape[1], tgt.shape[1]), diagonal=1).bool().to(self.device)\n",
        "            # tgt2, attn_heads = hist['self_attn_non_residual'] = self.self_attn(tgt, tgt, tgt, attn_mask=mask, average_attn_weights=False)\n",
        "            tgt2 = hist['self_attn_non_residual'] = self.attn_forward(tgt, self.self_attn, custom_attention, hist, head_mask)\n",
        "            tgt = hist['self_attn'] = tgt + tgt2\n",
        "        tgt = hist['norm1'] = self.norm1(tgt)\n",
        "        if self.dim_feedforward > 0 and not skip_feedforward:\n",
        "            tgt2 = hist['linear1'] = nn.functional.relu(self.linear1(tgt))\n",
        "            tgt2 = hist['linear1_dropout'] = self.dropout(tgt2)\n",
        "            if linear_mask is not None:\n",
        "                tgt2 = tgt2 * linear_mask\n",
        "            tgt2 = hist['linear2_non_residual'] = self.linear2(tgt2)\n",
        "            tgt = hist['linear2'] = tgt + tgt2\n",
        "        tgt = hist['norm2'] = self.norm2(tgt)\n",
        "        return tgt if history is None else hist[history], attn_heads\n",
        "\n",
        "    def attn_forward(self, x, attn, custom_attention, history, head_mask=None):\n",
        "        attn_mask = torch.tril(torch.ones(x.shape[1], x.shape[1]), diagonal=0).to(self.device)\n",
        "        if not custom_attention:\n",
        "            return attn(x, x, x, attn_mask=attn_mask)[0]\n",
        "\n",
        "        batch_size = x.shape[0]\n",
        "        x = x.transpose(0, 1)\n",
        "        # this is just torch's attention but expanded so we can modify it\n",
        "        proj = F.linear(x, attn.in_proj_weight, attn.in_proj_bias)\n",
        "        proj = proj.unflatten(-1, (3, self.d_model)).unsqueeze(0).transpose(0, -2).squeeze(-2).contiguous()\n",
        "        q, k, v = proj[0], proj[1], proj[2]\n",
        "        q = q.unflatten(-1, (self.n_head, self.d_model // self.n_head)).permute(1, 2, 0, 3)\n",
        "        k = k.unflatten(-1, (self.n_head, self.d_model // self.n_head)).permute(1, 2, 0, 3)\n",
        "        v = v.unflatten(-1, (self.n_head, self.d_model // self.n_head)).permute(1, 2, 0, 3)\n",
        "\n",
        "        history.update({\n",
        "            'q': q,\n",
        "            'k': k,\n",
        "            'v': v\n",
        "        })\n",
        "\n",
        "        attn_mask = attn_mask.masked_fill(attn_mask == False, float('-inf'))\n",
        "\n",
        "        attn_output = torch.matmul(q, k.transpose(-2, -1)) / math.sqrt(q.size(-1)) + attn_mask\n",
        "        attn_output = F.softmax(attn_output, dim=-1)\n",
        "        attn_output = torch.matmul(attn_output, v)\n",
        "        attn_output = attn_output.permute(2, 0, 1, 3).contiguous()  # [seq_len, batch_size, n_head, d_model // n_head]\n",
        "        # apply head mask\n",
        "        if head_mask is not None:\n",
        "            attn_output = attn_output * head_mask[None, None, :, None]\n",
        "\n",
        "        history['attn_output'] = attn_output\n",
        "\n",
        "        attn_output = attn_output.flatten(-2, -1)\n",
        "        attn_output = F.linear(attn_output, attn.out_proj.weight, attn.out_proj.bias)\n",
        "        return attn_output.transpose(0, 1)\n",
        "\n",
        "class ToyTransformer(nn.Module):\n",
        "    def __init__(self, n_layers, d_model, n_head, hidden_size, n_tokens, max_len, dropout=0.0):\n",
        "        super().__init__()\n",
        "        self.n_layers = n_layers\n",
        "        self.d_model = d_model\n",
        "        self.n_head = n_head\n",
        "        self.hidden_size = hidden_size\n",
        "        self.tokens = list(range(n_tokens))\n",
        "        self.max_len = max_len\n",
        "\n",
        "        self.embed = nn.Embedding(n_tokens, embedding_dim=d_model)\n",
        "\n",
        "        self.layers = nn.ModuleList([\n",
        "            DecoderLayer(d_model=d_model, n_head=n_head, dim_feedforward=hidden_size)\n",
        "            for _ in range(n_layers)\n",
        "        ])\n",
        "        self.unembed = nn.Linear(d_model, n_tokens)\n",
        "\n",
        "    @property\n",
        "    def device(self):\n",
        "        return next(self.parameters()).device\n",
        "\n",
        "    def forward(\n",
        "        self,\n",
        "        x,\n",
        "        skip_feedforward=False,\n",
        "        skip_self_attn=False,\n",
        "        return_before_embedding=False,\n",
        "        linear_mask=None,\n",
        "        history=None,\n",
        "        return_attn_weights=False,\n",
        "        custom_attention=False,\n",
        "        head_mask=None,\n",
        "        skip_layers=None):\n",
        "        if skip_layers is None:\n",
        "            skip_layers = []\n",
        "        if head_mask is not None:\n",
        "            custom_attention = True\n",
        "        tgt = self.embed(x)\n",
        "        tgt = F.pad(tgt, (0, 0, 0, 1))  # [batch_size, seq_len + 1, d_model]\n",
        "        for i, layer in enumerate(self.layers):\n",
        "            if i in skip_layers:\n",
        "                continue\n",
        "            tgt, attn_heads = layer(\n",
        "                tgt,\n",
        "                skip_feedforward=skip_feedforward,\n",
        "                skip_self_attn=skip_self_attn,\n",
        "                linear_mask=linear_mask,\n",
        "                history=history,\n",
        "                custom_attention=custom_attention,\n",
        "                head_mask=head_mask)\n",
        "            if history is not None:\n",
        "                return tgt\n",
        "        if return_before_embedding:\n",
        "            return tgt\n",
        "        x = self.unembed(tgt)\n",
        "        if return_attn_weights:\n",
        "            return x, attn_heads\n",
        "        return x\n",
        "\n",
        "    def train(self, lr=1e-3, batch_size=128, n_epochs=1000, eval_every=1000):\n",
        "        optimizer = optim.Adam(self.parameters(), lr=lr)\n",
        "        criterion = nn.CrossEntropyLoss()\n",
        "\n",
        "        total_loss = 0\n",
        "        for i in tqdm(range(n_epochs)):\n",
        "            batch = self.generate_data(batch_size)\n",
        "            optimizer.zero_grad()\n",
        "            input = batch[:, :-1]\n",
        "            output = self(input)\n",
        "            loss = criterion(output.reshape(-1, len(self.tokens)), batch.reshape(-1))\n",
        "            loss.backward()\n",
        "            total_loss += loss.item()\n",
        "            optimizer.step()\n",
        "\n",
        "            if (i + 1) % eval_every == 0:\n",
        "                print('loss: ', total_loss / eval_every)\n",
        "                total_loss = 0\n",
        "                samples = 10000\n",
        "                data = self.generate_data(samples)\n",
        "                output = (self(data[:,:-1])[:,-1,:].argmax(dim=-1))\n",
        "                print('Accuracy: ', output.eq(data[:,-1]).sum().item() / samples)\n",
        "\n",
        "    def generate_data(self, batch_size):\n",
        "        random_indices = torch.randint(0, n_tokens, (batch_size, 2))  # [batch_size, 2]\n",
        "        next_tokens = memory[random_indices[:, 0], random_indices[:, 1]].unsqueeze(1)  # [batch_size, 1]\n",
        "        tensor = torch.cat([random_indices, next_tokens], dim=1)\n",
        "        return tensor.to(self.device)\n",
        "\n"
      ]
    },
    {
      "cell_type": "code",
      "execution_count": null,
      "metadata": {
        "id": "5q97jWQCzyk6"
      },
      "outputs": [],
      "source": [
        "if torch.cuda.is_available():\n",
        "    device = torch.device('cuda')\n",
        "else:\n",
        "    device = torch.device('cpu')"
      ]
    },
    {
      "cell_type": "code",
      "source": [
        "for num_layers in range(1, 13):\n",
        "    print(f'==================== {num_layers} layers ====================')\n",
        "    model = ToyTransformer(n_layers=num_layers, d_model=16, n_head=4, hidden_size=64, n_tokens=n_tokens, max_len=3, dropout=0.0).to(device)\n",
        "    model.train(lr=1e-3, n_epochs=20000, batch_size=300, eval_every=4000)\n",
        "    samples = 1000\n",
        "    data = model.generate_data(samples)\n",
        "    output = (model(data[:,:-1])[:,-1,:].argmax(dim=-1))\n",
        "    print('Accuracy: ', output.eq(data[:,-1]).sum().item() / samples)\n"
      ],
      "metadata": {
        "colab": {
          "base_uri": "https://localhost:8080/"
        },
        "id": "8mneMlLjhOLQ",
        "outputId": "28ebecbc-e439-49a7-8cd5-e9bc2450fac2"
      },
      "execution_count": null,
      "outputs": [
        {
          "output_type": "stream",
          "name": "stdout",
          "text": [
            "==================== 1 layers ====================\n"
          ]
        },
        {
          "output_type": "stream",
          "name": "stderr",
          "text": [
            " 20%|██        | 4046/20000 [00:15<00:56, 281.02it/s]"
          ]
        },
        {
          "output_type": "stream",
          "name": "stdout",
          "text": [
            "loss:  1.631412913262844\n",
            "Accuracy:  0.0651\n"
          ]
        },
        {
          "output_type": "stream",
          "name": "stderr",
          "text": [
            " 40%|████      | 8036/20000 [00:29<00:40, 293.74it/s]"
          ]
        },
        {
          "output_type": "stream",
          "name": "stdout",
          "text": [
            "loss:  1.3738710118830204\n",
            "Accuracy:  0.0954\n"
          ]
        },
        {
          "output_type": "stream",
          "name": "stderr",
          "text": [
            " 60%|██████    | 12049/20000 [00:44<00:27, 293.25it/s]"
          ]
        },
        {
          "output_type": "stream",
          "name": "stdout",
          "text": [
            "loss:  1.3161240410506725\n",
            "Accuracy:  0.1189\n"
          ]
        },
        {
          "output_type": "stream",
          "name": "stderr",
          "text": [
            " 80%|████████  | 16034/20000 [00:59<00:14, 272.01it/s]"
          ]
        },
        {
          "output_type": "stream",
          "name": "stdout",
          "text": [
            "loss:  1.280550512045622\n",
            "Accuracy:  0.1433\n"
          ]
        },
        {
          "output_type": "stream",
          "name": "stderr",
          "text": [
            "100%|██████████| 20000/20000 [01:13<00:00, 270.54it/s]\n"
          ]
        },
        {
          "output_type": "stream",
          "name": "stdout",
          "text": [
            "loss:  1.2555710887610911\n",
            "Accuracy:  0.1532\n",
            "Accuracy:  0.163\n",
            "==================== 2 layers ====================\n"
          ]
        },
        {
          "output_type": "stream",
          "name": "stderr",
          "text": [
            " 20%|██        | 4030/20000 [00:24<01:27, 182.38it/s]"
          ]
        },
        {
          "output_type": "stream",
          "name": "stdout",
          "text": [
            "loss:  1.5372524098157883\n",
            "Accuracy:  0.1433\n"
          ]
        },
        {
          "output_type": "stream",
          "name": "stderr",
          "text": [
            " 40%|████      | 8025/20000 [00:48<01:04, 185.80it/s]"
          ]
        },
        {
          "output_type": "stream",
          "name": "stdout",
          "text": [
            "loss:  1.147566702529788\n",
            "Accuracy:  0.2398\n"
          ]
        },
        {
          "output_type": "stream",
          "name": "stderr",
          "text": [
            " 60%|██████    | 12027/20000 [01:11<00:59, 133.78it/s]"
          ]
        },
        {
          "output_type": "stream",
          "name": "stdout",
          "text": [
            "loss:  1.0312764386683702\n",
            "Accuracy:  0.2882\n"
          ]
        },
        {
          "output_type": "stream",
          "name": "stderr",
          "text": [
            " 80%|████████  | 16031/20000 [01:34<00:22, 179.27it/s]"
          ]
        },
        {
          "output_type": "stream",
          "name": "stdout",
          "text": [
            "loss:  0.9688733783811331\n",
            "Accuracy:  0.3074\n"
          ]
        },
        {
          "output_type": "stream",
          "name": "stderr",
          "text": [
            "100%|██████████| 20000/20000 [01:57<00:00, 169.77it/s]\n"
          ]
        },
        {
          "output_type": "stream",
          "name": "stdout",
          "text": [
            "loss:  0.9274852876663208\n",
            "Accuracy:  0.3333\n",
            "Accuracy:  0.3\n",
            "==================== 3 layers ====================\n"
          ]
        },
        {
          "output_type": "stream",
          "name": "stderr",
          "text": [
            " 20%|██        | 4025/20000 [00:31<01:59, 133.71it/s]"
          ]
        },
        {
          "output_type": "stream",
          "name": "stdout",
          "text": [
            "loss:  1.4659952946603299\n",
            "Accuracy:  0.2091\n"
          ]
        },
        {
          "output_type": "stream",
          "name": "stderr",
          "text": [
            " 40%|████      | 8023/20000 [01:04<01:31, 130.26it/s]"
          ]
        },
        {
          "output_type": "stream",
          "name": "stdout",
          "text": [
            "loss:  0.9536597099006175\n",
            "Accuracy:  0.3684\n"
          ]
        },
        {
          "output_type": "stream",
          "name": "stderr",
          "text": [
            " 60%|██████    | 12022/20000 [01:36<00:59, 133.80it/s]"
          ]
        },
        {
          "output_type": "stream",
          "name": "stdout",
          "text": [
            "loss:  0.7983411356806756\n",
            "Accuracy:  0.4355\n"
          ]
        },
        {
          "output_type": "stream",
          "name": "stderr",
          "text": [
            " 80%|████████  | 16010/20000 [02:08<00:42, 94.43it/s]"
          ]
        },
        {
          "output_type": "stream",
          "name": "stdout",
          "text": [
            "loss:  0.7202694138735533\n",
            "Accuracy:  0.4673\n"
          ]
        },
        {
          "output_type": "stream",
          "name": "stderr",
          "text": [
            "100%|██████████| 20000/20000 [02:40<00:00, 124.33it/s]\n"
          ]
        },
        {
          "output_type": "stream",
          "name": "stdout",
          "text": [
            "loss:  0.672420081987977\n",
            "Accuracy:  0.4703\n",
            "Accuracy:  0.448\n",
            "==================== 4 layers ====================\n"
          ]
        },
        {
          "output_type": "stream",
          "name": "stderr",
          "text": [
            " 20%|██        | 4010/20000 [00:41<02:37, 101.54it/s]"
          ]
        },
        {
          "output_type": "stream",
          "name": "stdout",
          "text": [
            "loss:  1.396420836225152\n",
            "Accuracy:  0.2972\n"
          ]
        },
        {
          "output_type": "stream",
          "name": "stderr",
          "text": [
            " 40%|████      | 8013/20000 [01:22<01:55, 103.93it/s]"
          ]
        },
        {
          "output_type": "stream",
          "name": "stdout",
          "text": [
            "loss:  0.8341145663261413\n",
            "Accuracy:  0.4439\n"
          ]
        },
        {
          "output_type": "stream",
          "name": "stderr",
          "text": [
            " 60%|██████    | 12014/20000 [02:03<01:18, 102.16it/s]"
          ]
        },
        {
          "output_type": "stream",
          "name": "stdout",
          "text": [
            "loss:  0.6473211811929941\n",
            "Accuracy:  0.5288\n"
          ]
        },
        {
          "output_type": "stream",
          "name": "stderr",
          "text": [
            " 80%|████████  | 16009/20000 [02:44<00:40, 99.58it/s] "
          ]
        },
        {
          "output_type": "stream",
          "name": "stdout",
          "text": [
            "loss:  0.5527846050560474\n",
            "Accuracy:  0.5788\n"
          ]
        },
        {
          "output_type": "stream",
          "name": "stderr",
          "text": [
            "100%|██████████| 20000/20000 [03:24<00:00, 97.80it/s] \n"
          ]
        },
        {
          "output_type": "stream",
          "name": "stdout",
          "text": [
            "loss:  0.4952553524374962\n",
            "Accuracy:  0.6159\n",
            "Accuracy:  0.627\n",
            "==================== 5 layers ====================\n"
          ]
        },
        {
          "output_type": "stream",
          "name": "stderr",
          "text": [
            " 20%|██        | 4005/20000 [00:48<04:20, 61.39it/s]"
          ]
        },
        {
          "output_type": "stream",
          "name": "stdout",
          "text": [
            "loss:  1.316667012169957\n",
            "Accuracy:  0.3759\n"
          ]
        },
        {
          "output_type": "stream",
          "name": "stderr",
          "text": [
            " 40%|████      | 8007/20000 [01:37<02:21, 84.54it/s]"
          ]
        },
        {
          "output_type": "stream",
          "name": "stdout",
          "text": [
            "loss:  0.6766492197215557\n",
            "Accuracy:  0.558\n"
          ]
        },
        {
          "output_type": "stream",
          "name": "stderr",
          "text": [
            " 60%|██████    | 12012/20000 [02:27<01:32, 85.92it/s]"
          ]
        },
        {
          "output_type": "stream",
          "name": "stdout",
          "text": [
            "loss:  0.4851742291003466\n",
            "Accuracy:  0.6307\n"
          ]
        },
        {
          "output_type": "stream",
          "name": "stderr",
          "text": [
            " 80%|████████  | 16015/20000 [03:15<00:46, 84.81it/s]"
          ]
        },
        {
          "output_type": "stream",
          "name": "stdout",
          "text": [
            "loss:  0.3895584967508912\n",
            "Accuracy:  0.6951\n"
          ]
        },
        {
          "output_type": "stream",
          "name": "stderr",
          "text": [
            "100%|██████████| 20000/20000 [04:05<00:00, 81.60it/s]\n"
          ]
        },
        {
          "output_type": "stream",
          "name": "stdout",
          "text": [
            "loss:  0.3339533253759146\n",
            "Accuracy:  0.7039\n",
            "Accuracy:  0.693\n",
            "==================== 6 layers ====================\n"
          ]
        },
        {
          "output_type": "stream",
          "name": "stderr",
          "text": [
            " 20%|██        | 4013/20000 [00:57<03:36, 73.98it/s]"
          ]
        },
        {
          "output_type": "stream",
          "name": "stdout",
          "text": [
            "loss:  1.2563081759661436\n",
            "Accuracy:  0.4466\n"
          ]
        },
        {
          "output_type": "stream",
          "name": "stderr",
          "text": [
            " 40%|████      | 8006/20000 [01:55<03:51, 51.80it/s]"
          ]
        },
        {
          "output_type": "stream",
          "name": "stdout",
          "text": [
            "loss:  0.5224560948610306\n",
            "Accuracy:  0.6158\n"
          ]
        },
        {
          "output_type": "stream",
          "name": "stderr",
          "text": [
            " 60%|██████    | 12007/20000 [02:53<01:52, 70.76it/s]"
          ]
        },
        {
          "output_type": "stream",
          "name": "stdout",
          "text": [
            "loss:  0.32827521914616226\n",
            "Accuracy:  0.7672\n"
          ]
        },
        {
          "output_type": "stream",
          "name": "stderr",
          "text": [
            " 80%|████████  | 16011/20000 [03:50<00:54, 73.36it/s]"
          ]
        },
        {
          "output_type": "stream",
          "name": "stdout",
          "text": [
            "loss:  0.2486867581754923\n",
            "Accuracy:  0.785\n"
          ]
        },
        {
          "output_type": "stream",
          "name": "stderr",
          "text": [
            "100%|██████████| 20000/20000 [04:48<00:00, 69.41it/s]\n"
          ]
        },
        {
          "output_type": "stream",
          "name": "stdout",
          "text": [
            "loss:  0.20571891766786576\n",
            "Accuracy:  0.7953\n",
            "Accuracy:  0.816\n",
            "==================== 7 layers ====================\n"
          ]
        },
        {
          "output_type": "stream",
          "name": "stderr",
          "text": [
            " 20%|██        | 4011/20000 [01:06<04:12, 63.30it/s]"
          ]
        },
        {
          "output_type": "stream",
          "name": "stdout",
          "text": [
            "loss:  1.1848834337890148\n",
            "Accuracy:  0.5291\n"
          ]
        },
        {
          "output_type": "stream",
          "name": "stderr",
          "text": [
            " 40%|████      | 8008/20000 [02:13<03:09, 63.25it/s]"
          ]
        },
        {
          "output_type": "stream",
          "name": "stdout",
          "text": [
            "loss:  0.41961691026389597\n",
            "Accuracy:  0.773\n"
          ]
        },
        {
          "output_type": "stream",
          "name": "stderr",
          "text": [
            " 60%|██████    | 12007/20000 [03:19<02:06, 62.96it/s]"
          ]
        },
        {
          "output_type": "stream",
          "name": "stdout",
          "text": [
            "loss:  0.23697573203220965\n",
            "Accuracy:  0.8332\n"
          ]
        },
        {
          "output_type": "stream",
          "name": "stderr",
          "text": [
            " 80%|████████  | 16006/20000 [04:26<01:04, 62.30it/s]"
          ]
        },
        {
          "output_type": "stream",
          "name": "stdout",
          "text": [
            "loss:  0.17684553435631095\n",
            "Accuracy:  0.8519\n"
          ]
        },
        {
          "output_type": "stream",
          "name": "stderr",
          "text": [
            "100%|██████████| 20000/20000 [05:32<00:00, 60.07it/s]\n"
          ]
        },
        {
          "output_type": "stream",
          "name": "stdout",
          "text": [
            "loss:  0.14684386380389333\n",
            "Accuracy:  0.9335\n",
            "Accuracy:  0.935\n",
            "==================== 8 layers ====================\n"
          ]
        },
        {
          "output_type": "stream",
          "name": "stderr",
          "text": [
            " 20%|██        | 4003/20000 [01:15<06:52, 38.78it/s]"
          ]
        },
        {
          "output_type": "stream",
          "name": "stdout",
          "text": [
            "loss:  1.1455138104557991\n",
            "Accuracy:  0.5752\n"
          ]
        },
        {
          "output_type": "stream",
          "name": "stderr",
          "text": [
            " 40%|████      | 8006/20000 [02:32<03:40, 54.28it/s]"
          ]
        },
        {
          "output_type": "stream",
          "name": "stdout",
          "text": [
            "loss:  0.32527873638272287\n",
            "Accuracy:  0.8202\n"
          ]
        },
        {
          "output_type": "stream",
          "name": "stderr",
          "text": [
            " 60%|██████    | 12004/20000 [03:48<02:31, 52.84it/s]"
          ]
        },
        {
          "output_type": "stream",
          "name": "stdout",
          "text": [
            "loss:  0.17135150873474778\n",
            "Accuracy:  0.873\n"
          ]
        },
        {
          "output_type": "stream",
          "name": "stderr",
          "text": [
            " 80%|████████  | 16007/20000 [05:03<01:13, 54.38it/s]"
          ]
        },
        {
          "output_type": "stream",
          "name": "stdout",
          "text": [
            "loss:  0.13314629878662526\n",
            "Accuracy:  0.9462\n"
          ]
        },
        {
          "output_type": "stream",
          "name": "stderr",
          "text": [
            "100%|██████████| 20000/20000 [06:19<00:00, 52.63it/s]\n"
          ]
        },
        {
          "output_type": "stream",
          "name": "stdout",
          "text": [
            "loss:  0.11465606991783715\n",
            "Accuracy:  0.8864\n",
            "Accuracy:  0.88\n",
            "==================== 9 layers ====================\n"
          ]
        },
        {
          "output_type": "stream",
          "name": "stderr",
          "text": [
            " 20%|██        | 4003/20000 [01:25<05:37, 47.36it/s]"
          ]
        },
        {
          "output_type": "stream",
          "name": "stdout",
          "text": [
            "loss:  1.0793773514777423\n",
            "Accuracy:  0.6543\n"
          ]
        },
        {
          "output_type": "stream",
          "name": "stderr",
          "text": [
            " 40%|████      | 8006/20000 [02:51<05:52, 34.02it/s]"
          ]
        },
        {
          "output_type": "stream",
          "name": "stdout",
          "text": [
            "loss:  0.2517672010529786\n",
            "Accuracy:  0.889\n"
          ]
        },
        {
          "output_type": "stream",
          "name": "stderr",
          "text": [
            " 60%|██████    | 12005/20000 [04:16<02:42, 49.20it/s]"
          ]
        },
        {
          "output_type": "stream",
          "name": "stdout",
          "text": [
            "loss:  0.12148481867276133\n",
            "Accuracy:  1.0\n"
          ]
        },
        {
          "output_type": "stream",
          "name": "stderr",
          "text": [
            " 80%|████████  | 16005/20000 [05:41<01:22, 48.38it/s]"
          ]
        },
        {
          "output_type": "stream",
          "name": "stdout",
          "text": [
            "loss:  0.10057276537118014\n",
            "Accuracy:  0.8864\n"
          ]
        },
        {
          "output_type": "stream",
          "name": "stderr",
          "text": [
            "100%|██████████| 20000/20000 [07:05<00:00, 46.96it/s]\n"
          ]
        },
        {
          "output_type": "stream",
          "name": "stdout",
          "text": [
            "loss:  0.05848035830832669\n",
            "Accuracy:  1.0\n",
            "Accuracy:  1.0\n",
            "==================== 10 layers ====================\n"
          ]
        },
        {
          "output_type": "stream",
          "name": "stderr",
          "text": [
            " 20%|██        | 4006/20000 [01:34<06:02, 44.10it/s]"
          ]
        },
        {
          "output_type": "stream",
          "name": "stdout",
          "text": [
            "loss:  1.0363577803596855\n",
            "Accuracy:  0.7186\n"
          ]
        },
        {
          "output_type": "stream",
          "name": "stderr",
          "text": [
            " 40%|████      | 8006/20000 [03:08<04:32, 44.06it/s]"
          ]
        },
        {
          "output_type": "stream",
          "name": "stdout",
          "text": [
            "loss:  0.2088630115222186\n",
            "Accuracy:  0.901\n"
          ]
        },
        {
          "output_type": "stream",
          "name": "stderr",
          "text": [
            " 60%|██████    | 12003/20000 [04:42<03:20, 39.91it/s]"
          ]
        },
        {
          "output_type": "stream",
          "name": "stdout",
          "text": [
            "loss:  0.09540297432860825\n",
            "Accuracy:  0.8412\n"
          ]
        },
        {
          "output_type": "stream",
          "name": "stderr",
          "text": [
            " 80%|████████  | 16005/20000 [06:17<01:32, 43.14it/s]"
          ]
        },
        {
          "output_type": "stream",
          "name": "stdout",
          "text": [
            "loss:  0.08047008900373476\n",
            "Accuracy:  1.0\n"
          ]
        },
        {
          "output_type": "stream",
          "name": "stderr",
          "text": [
            "100%|██████████| 20000/20000 [07:54<00:00, 42.18it/s]\n"
          ]
        },
        {
          "output_type": "stream",
          "name": "stdout",
          "text": [
            "loss:  0.10299747950305754\n",
            "Accuracy:  0.9246\n",
            "Accuracy:  0.94\n",
            "==================== 11 layers ====================\n"
          ]
        },
        {
          "output_type": "stream",
          "name": "stderr",
          "text": [
            " 20%|██        | 4006/20000 [01:47<06:57, 38.28it/s]"
          ]
        },
        {
          "output_type": "stream",
          "name": "stdout",
          "text": [
            "loss:  0.9853978796005249\n",
            "Accuracy:  0.7573\n"
          ]
        },
        {
          "output_type": "stream",
          "name": "stderr",
          "text": [
            " 40%|████      | 8004/20000 [03:35<05:21, 37.29it/s]"
          ]
        },
        {
          "output_type": "stream",
          "name": "stdout",
          "text": [
            "loss:  0.16713561463262885\n",
            "Accuracy:  0.9657\n"
          ]
        },
        {
          "output_type": "stream",
          "name": "stderr",
          "text": [
            " 60%|██████    | 12004/20000 [05:23<03:27, 38.56it/s]"
          ]
        },
        {
          "output_type": "stream",
          "name": "stdout",
          "text": [
            "loss:  0.09698200636162073\n",
            "Accuracy:  0.9225\n"
          ]
        },
        {
          "output_type": "stream",
          "name": "stderr",
          "text": [
            " 80%|████████  | 16005/20000 [07:10<01:43, 38.50it/s]"
          ]
        },
        {
          "output_type": "stream",
          "name": "stdout",
          "text": [
            "loss:  0.017996264994348168\n",
            "Accuracy:  1.0\n"
          ]
        },
        {
          "output_type": "stream",
          "name": "stderr",
          "text": [
            "100%|██████████| 20000/20000 [08:55<00:00, 37.33it/s]\n"
          ]
        },
        {
          "output_type": "stream",
          "name": "stdout",
          "text": [
            "loss:  0.15527878299837175\n",
            "Accuracy:  1.0\n",
            "Accuracy:  1.0\n",
            "==================== 12 layers ====================\n"
          ]
        },
        {
          "output_type": "stream",
          "name": "stderr",
          "text": [
            " 20%|██        | 4005/20000 [01:50<07:34, 35.17it/s]"
          ]
        },
        {
          "output_type": "stream",
          "name": "stdout",
          "text": [
            "loss:  0.9647033274360001\n",
            "Accuracy:  0.7139\n"
          ]
        },
        {
          "output_type": "stream",
          "name": "stderr",
          "text": [
            " 40%|████      | 8002/20000 [03:47<08:46, 22.77it/s]"
          ]
        },
        {
          "output_type": "stream",
          "name": "stdout",
          "text": [
            "loss:  0.15997169777564704\n",
            "Accuracy:  0.9551\n"
          ]
        },
        {
          "output_type": "stream",
          "name": "stderr",
          "text": [
            " 60%|██████    | 12005/20000 [05:42<03:54, 34.12it/s]"
          ]
        },
        {
          "output_type": "stream",
          "name": "stdout",
          "text": [
            "loss:  0.01854490770769189\n",
            "Accuracy:  1.0\n"
          ]
        },
        {
          "output_type": "stream",
          "name": "stderr",
          "text": [
            " 80%|████████  | 16003/20000 [07:39<01:59, 33.44it/s]"
          ]
        },
        {
          "output_type": "stream",
          "name": "stdout",
          "text": [
            "loss:  0.17118029225134523\n",
            "Accuracy:  0.8158\n"
          ]
        },
        {
          "output_type": "stream",
          "name": "stderr",
          "text": [
            "100%|██████████| 20000/20000 [09:34<00:00, 34.81it/s]"
          ]
        },
        {
          "output_type": "stream",
          "name": "stdout",
          "text": [
            "loss:  0.006669308490279946\n",
            "Accuracy:  1.0\n",
            "Accuracy:  1.0\n"
          ]
        },
        {
          "output_type": "stream",
          "name": "stderr",
          "text": [
            "\n"
          ]
        }
      ]
    }
  ],
  "metadata": {
    "accelerator": "GPU",
    "colab": {
      "provenance": []
    },
    "kernelspec": {
      "display_name": "Python 3",
      "name": "python3"
    },
    "language_info": {
      "codemirror_mode": {
        "name": "ipython",
        "version": 3
      },
      "file_extension": ".py",
      "mimetype": "text/x-python",
      "name": "python",
      "nbconvert_exporter": "python",
      "pygments_lexer": "ipython3",
      "version": "3.10.12"
    }
  },
  "nbformat": 4,
  "nbformat_minor": 0
}